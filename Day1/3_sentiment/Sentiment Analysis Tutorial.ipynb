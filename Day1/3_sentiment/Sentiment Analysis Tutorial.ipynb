{
  "cells": [
    {
      "cell_type": "markdown",
      "metadata": {
        "id": "view-in-github",
        "colab_type": "text"
      },
      "source": [
        "<a href=\"https://colab.research.google.com/github/oklawyer71/ML1010_ClassExercies/blob/master/Day1/3_sentiment/Sentiment%20Analysis%20Tutorial.ipynb\" target=\"_parent\"><img src=\"https://colab.research.google.com/assets/colab-badge.svg\" alt=\"Open In Colab\"/></a>"
      ]
    },
    {
      "cell_type": "markdown",
      "metadata": {
        "id": "KE1PwnyaOttG"
      },
      "source": [
        "# Emotion and Sentiment Analysis\n",
        "Sentiment analysis is perhaps one of the most popular applications of NLP, with a vast number of tutorials, courses, and applications that focus on analyzing sentiments of diverse datasets ranging from corporate surveys to movie reviews. The key aspect of sentiment analysis is to analyze a body of text for understanding the opinion expressed by it. Typically, we quantify this sentiment with a positive or negative value, called polarity. The overall sentiment is often inferred as positive, neutral or negative from the sign of the polarity score.\n",
        "\n",
        "Usually, sentiment analysis works best on text that has a subjective context than on text with only an objective context. Objective text usually depicts some normal statements or facts without expressing any emotion, feelings, or mood. Subjective text contains text that is usually expressed by a human having typical moods, emotions, and feelings. Sentiment analysis is widely used, especially as a part of social media analysis for any domain, be it a business, a recent movie, or a product launch, to understand its reception by the people and what they think of it based on their opinions or, you guessed it, sentiment!\n",
        "\n",
        "\n",
        "Typically, sentiment analysis for text data can be computed on several levels, including on an individual sentence level, paragraph level, or the entire document as a whole. Often, sentiment is computed on the document as a whole or some aggregations are done after computing the sentiment for individual sentences. There are two major approaches to sentiment analysis.\n",
        " - Supervised machine learning or deep learning approaches\n",
        " - Unsupervised lexicon-based approaches\n",
        "\n",
        "For the first approach we typically need pre-labeled data. Hence, we will be focusing on the second approach. For a comprehensive coverage of sentiment analysis, refer to Chapter 7: Analyzing Movie Reviews Sentiment, Practical Machine Learning with Python, Springer\\Apress, 2018. In this scenario, we do not have the convenience of a well-labeled training dataset. Hence, we will need to use unsupervised techniques for predicting the sentiment by using knowledgebases, ontologies, databases, and lexicons that have detailed information, specially curated and prepared just for sentiment analysis. A lexicon is a dictionary, vocabulary, or a book of words. In our case, lexicons are special dictionaries or vocabularies that have been created for analyzing sentiments. Most of these lexicons have a list of positive and negative polar words with some score associated with them, and using various techniques like the position of words, surrounding words, context, parts of speech, phrases, and so on, scores are assigned to the text documents for which we want to compute the sentiment. After aggregating these scores, we get the final sentiment.\n",
        "\n",
        "\n",
        "Various popular lexicons are used for sentiment analysis, including the following.\n",
        "\n",
        "AFINN lexicon\n",
        "Bing Liu’s lexicon\n",
        "MPQA subjectivity lexicon\n",
        "SentiWordNet\n",
        "VADER lexicon\n",
        "TextBlob lexicon\n",
        "This is not an exhaustive list of lexicons that can be leveraged for sentiment analysis, and there are several other lexicons which can be easily obtained from the Internet. Feel free to check out each of these links and explore them. We will be covering two techniques in this section.\n"
      ]
    },
    {
      "cell_type": "markdown",
      "metadata": {
        "id": "GqZDICVUOttI"
      },
      "source": [
        "# Some Pre-Processing\n",
        "\n",
        "### Import necessary depencencies"
      ]
    },
    {
      "cell_type": "code",
      "execution_count": 2,
      "metadata": {
        "id": "K28LToylOttI"
      },
      "outputs": [],
      "source": [
        "import pandas as pd\n",
        "import numpy as np\n",
        "import model_evaluation_utils as meu\n",
        "\n",
        "np.set_printoptions(precision=2, linewidth=80)"
      ]
    },
    {
      "cell_type": "markdown",
      "metadata": {
        "id": "i0btezUvOttI"
      },
      "source": [
        "### Load and normalize data\n",
        "1.  Cleaning Text - strip HTML\n",
        "2.  Removing accented characters\n",
        "3.  Expanding Contractions\n",
        "4.  Removing Special Characters\n",
        "5.  Lemmatizing text¶\n",
        "6.  Removing Stopwords"
      ]
    },
    {
      "cell_type": "code",
      "execution_count": 14,
      "metadata": {
        "id": "hhNA0PmHOttJ"
      },
      "outputs": [],
      "source": [
        "dataset = pd.read_csv(r'movie_reviews_cleaned.csv')\n",
        "\n",
        "reviews = np.array(dataset['review'])\n",
        "sentiments = np.array(dataset['sentiment'])\n",
        "\n",
        "# extract data for model evaluation\n",
        "#train_reviews = reviews[:35000]\n",
        "#train_sentiments = sentiments[:35000]\n",
        "\n",
        "#test_reviews = reviews[35000:]\n",
        "#test_sentiments = sentiments[35000:]\n",
        "#sample_review_ids = [7626, 3533, 13010]\n",
        "\n",
        "train_reviews = reviews[:5000]\n",
        "train_sentiments = sentiments[:5000]\n",
        "\n",
        "test_reviews = reviews[5000:7000]\n",
        "test_sentiments = sentiments[5000:7000]\n",
        "sample_review_ids = [626, 1533, 1801]\n"
      ]
    },
    {
      "cell_type": "code",
      "execution_count": null,
      "metadata": {
        "id": "67ZKDt8LOttJ",
        "outputId": "fed48e12-3372-43da-ed20-1057400821f2"
      },
      "outputs": [
        {
          "data": {
            "text/plain": [
              "'\\nnorm_test_reviews = tn.normalize_corpus(test_reviews)\\nnorm_train_reviews = tn.normalize_corpus(train_reviews)\\n#output back to a csv file again\\nimport csv\\nwith open(r\\'movie_reviews_cleaned.csv\\', mode=\\'w\\') as cleaned_file:\\n    csv_writer = csv.writer(cleaned_file, delimiter=\\',\\', quotechar=\\'\"\\', quoting=csv.QUOTE_MINIMAL)\\n    csv_writer.writerow([\\'review\\', \\'sentiment\\'])\\n    for  text, sent in zip(norm_test_reviews, test_sentiments):\\n        csv_writer.writerow([text, sent])\\n    for  text, sent in zip(norm_train_reviews, train_sentiments):\\n        csv_writer.writerow([text, sent])\\n'"
            ]
          },
          "execution_count": 7,
          "metadata": {},
          "output_type": "execute_result"
        }
      ],
      "source": [
        "# SKIP FOR THE STUDENTS BECAUSE INSTRUCTOR HAS PRE_NORMALIZED AND SAVED THE FILE\n",
        "# normalize dataset (time consuming using spacey pipeline)\n",
        "\"\"\"\n",
        "norm_test_reviews = tn.normalize_corpus(test_reviews)\n",
        "norm_train_reviews = tn.normalize_corpus(train_reviews)\n",
        "#output back to a csv file again\n",
        "import csv\n",
        "with open(r'movie_reviews_cleaned.csv', mode='w') as cleaned_file:\n",
        "    csv_writer = csv.writer(cleaned_file, delimiter=',', quotechar='\"', quoting=csv.QUOTE_MINIMAL)\n",
        "    csv_writer.writerow(['review', 'sentiment'])\n",
        "    for  text, sent in zip(norm_test_reviews, test_sentiments):\n",
        "        csv_writer.writerow([text, sent])\n",
        "    for  text, sent in zip(norm_train_reviews, train_sentiments):\n",
        "        csv_writer.writerow([text, sent])\n",
        "\"\"\""
      ]
    },
    {
      "cell_type": "markdown",
      "metadata": {
        "collapsed": true,
        "id": "kWCCg8-NOttJ"
      },
      "source": [
        "# ============================================\n",
        "# Part A. Unsupervised (Lexicon) Sentiment Analysis\n",
        "# ============================================\n",
        "## 1.  Sentiment Analysis with AFINN\n",
        "The AFINN lexicon is perhaps one of the simplest and most popular lexicons that can be used extensively for sentiment analysis. Developed and curated by Finn Arup Nielsen, you can find more details on this lexicon in the paper, “A new ANEW: evaluation of a word list for sentiment analysis in microblogs”, proceedings of the ESWC 2011 Workshop. The current version of the lexicon is AFINN-en-165. txt and it contains over 3,300+ words with a polarity score associated with each word. You can find this lexicon at the author’s official GitHub repository along with previous versions of it, including AFINN-111. The author has also created a nice wrapper library on top of this in Python called afinn, which we will be using for our analysis.\n"
      ]
    },
    {
      "cell_type": "code",
      "source": [
        "!pip install afinn"
      ],
      "metadata": {
        "id": "W5CRpGG0QgNe",
        "outputId": "c9cd703b-7bfa-407c-f41d-17d69198d68d",
        "colab": {
          "base_uri": "https://localhost:8080/",
          "height": 0
        }
      },
      "execution_count": 16,
      "outputs": [
        {
          "output_type": "stream",
          "name": "stdout",
          "text": [
            "Requirement already satisfied: afinn in /usr/local/lib/python3.10/dist-packages (0.1)\n"
          ]
        }
      ]
    },
    {
      "cell_type": "code",
      "execution_count": 17,
      "metadata": {
        "id": "OMbVt2y8OttJ"
      },
      "outputs": [],
      "source": [
        "from afinn import Afinn\n",
        "\n",
        "afn = Afinn(emoticons=True)\n",
        "\n",
        "# NOTE:  to use afinn score, call the function afn.score(\"text you want the sentiment for\")\n",
        "# the lexicon will be used to compute summary of sentiment for the given text"
      ]
    },
    {
      "cell_type": "markdown",
      "metadata": {
        "id": "SMtKJkunOttJ"
      },
      "source": [
        "### Predict sentiment for sample reviews\n",
        "We can get a good idea of general sentiment for different sample.\n"
      ]
    },
    {
      "cell_type": "code",
      "execution_count": 18,
      "metadata": {
        "id": "WAlPO6vcOttJ",
        "outputId": "047c7522-dda3-4d37-a425-533d68015da1",
        "colab": {
          "base_uri": "https://localhost:8080/",
          "height": 0
        }
      },
      "outputs": [
        {
          "output_type": "stream",
          "name": "stdout",
          "text": [
            "REVIEW: fritz lang direct two great western western union return frank jame frank jame movie equal jesse jame western union one randolph scott great western never see robert young western terrific telegraph employee movie think telegraph company open west high gear story telegraph west triangle love story loyalty support cast superb dean jagger make western play telegraph manager virginia gilmore play mr jagger sister love interest movie ms gilmore short career movie quit film 1952 become drama coach primarily know first mrs yul brynner great see slim summerville movie mr scott two great movie rebecca sunnybrook farm jesse jame\n",
            "Actual Sentiment: positive\n",
            "Predicted Sentiment polarity: 33.0\n",
            "------------------------------------------------------------\n",
            "REVIEW: relic day production code hay office good fun not great entertaining base song roger hart enormous hit time story revolve around dance hall girl barbara stanwyck romance wealthy businessman ricardo cortez indecently handsome whose heart belong bookish neighbor monroe owsley owsley marry keep secret dismiss cortez still hold hope help hubby get job cortezs company marry bliss quickly turn sour owsley develop taste high life step college sweetheart gamble high stake bridge yup know pretty funny finally embezzle 5000 cortez go lam devoted wife go cortez not reveal anything else although ending certainly surprise stanwyck good thing movie one early role quite accomplish owsley weak point unattractive snivel cortez amazingly suave sexy performance earnest unremarkable ostensibly drama fill laugh many inadvertant element movie age poorly lot good witty line one point stanwyck say cortez brain foot pretty darn suggestive 1931 lot bawdy suggestive stuff flick last day code clamp whitewash everything amusing antique good reminder far not come 70 year story could easily change fit 2003 could keep basic plot original ending place\n",
            "Actual Sentiment: positive\n",
            "Predicted Sentiment polarity: 46.0\n",
            "------------------------------------------------------------\n",
            "REVIEW: get back film completely appal movie absolute mockery mankind theatre maybe 4 people movie recommend could not believe person like not believe sane human would like no plot no plot joke make movie nothing movie go show hollywood shamble look spiral horror movie industry giggle travesty filmak true new teen horror flick grudge boogeyman ring see series trash not support kind hogwash\n",
            "Actual Sentiment: negative\n",
            "Predicted Sentiment polarity: 10.0\n",
            "------------------------------------------------------------\n"
          ]
        }
      ],
      "source": [
        "for review, sentiment in zip(test_reviews[sample_review_ids], test_sentiments[sample_review_ids]):\n",
        "    print('REVIEW:', review)\n",
        "    print('Actual Sentiment:', sentiment)\n",
        "    print('Predicted Sentiment polarity:', afn.score(review))\n",
        "    print('-'*60)"
      ]
    },
    {
      "cell_type": "markdown",
      "metadata": {
        "id": "fhilhmmoOttJ"
      },
      "source": [
        "### Predict sentiment for test dataset"
      ]
    },
    {
      "cell_type": "code",
      "execution_count": 19,
      "metadata": {
        "id": "Gj-qSre2OttJ"
      },
      "outputs": [],
      "source": [
        "sentiment_polarity = [afn.score(review) for review in test_reviews]\n",
        "predicted_sentiments = ['positive' if score >= 1.0 else 'negative' for score in sentiment_polarity]"
      ]
    },
    {
      "cell_type": "markdown",
      "metadata": {
        "id": "qlpccUtCOttK"
      },
      "source": [
        "### Evaluate model performance"
      ]
    },
    {
      "cell_type": "code",
      "execution_count": 20,
      "metadata": {
        "id": "SvZDIv0oOttK",
        "outputId": "70b46b0d-8a78-4005-b2a1-fdecfa44e98b",
        "colab": {
          "base_uri": "https://localhost:8080/",
          "height": 0
        }
      },
      "outputs": [
        {
          "output_type": "stream",
          "name": "stdout",
          "text": [
            "              precision    recall  f1-score   support\n",
            "\n",
            "    negative       0.80      0.55      0.65      1019\n",
            "    positive       0.65      0.85      0.74       981\n",
            "\n",
            "    accuracy                           0.70      2000\n",
            "   macro avg       0.72      0.70      0.70      2000\n",
            "weighted avg       0.72      0.70      0.69      2000\n",
            "\n"
          ]
        }
      ],
      "source": [
        "from sklearn import metrics\n",
        "\n",
        "results = metrics.classification_report(test_sentiments, predicted_sentiments)\n",
        "print(results)\n",
        "\n",
        "#meu.display_model_performance_metrics(true_labels=test_sentiments, predicted_labels=predicted_sentiments,\n",
        "#                                  classes=['positive', 'negative'])"
      ]
    },
    {
      "cell_type": "markdown",
      "metadata": {
        "id": "5Q5QUg3YOttK"
      },
      "source": [
        "## 2. Sentiment Analysis with SentiWordNet\n",
        "SentiWordNet is a lexical resource for opinion mining. SentiWordNet assigns to each synset of WordNet three sentiment scores: positivity, negativity, objectivity. SentiWordNet is described in details in the papers:\n"
      ]
    },
    {
      "cell_type": "code",
      "execution_count": 26,
      "metadata": {
        "id": "pftKvO7COttK",
        "outputId": "85242916-e06f-4bb7-9161-6f0b737b1341",
        "colab": {
          "base_uri": "https://localhost:8080/",
          "height": 0
        }
      },
      "outputs": [
        {
          "output_type": "stream",
          "name": "stderr",
          "text": [
            "[nltk_data] Downloading package wordnet to /root/nltk_data...\n"
          ]
        },
        {
          "output_type": "stream",
          "name": "stdout",
          "text": [
            "Positive Polarity Score: 0.875\n",
            "Negative Polarity Score: 0.125\n",
            "Objective Score: 0.0\n"
          ]
        }
      ],
      "source": [
        "from nltk.corpus import sentiwordnet as swn\n",
        "import nltk\n",
        "nltk.download('wordnet')\n",
        "\n",
        "\n",
        "awesome = list(swn.senti_synsets('awesome', 'a'))[0]\n",
        "print('Positive Polarity Score:', awesome.pos_score())\n",
        "print('Negative Polarity Score:', awesome.neg_score())\n",
        "print('Objective Score:', awesome.obj_score())"
      ]
    },
    {
      "cell_type": "markdown",
      "metadata": {
        "id": "h37ga5ANOttK"
      },
      "source": [
        "### Build model\n",
        "For each word in  the review, add up the sentiment score of words that are NN, VB, JJ, RB if it's in the lexicon dictionary."
      ]
    },
    {
      "cell_type": "code",
      "execution_count": 27,
      "metadata": {
        "id": "oeRcgExnOttK"
      },
      "outputs": [],
      "source": [
        "# Added\n",
        "\n",
        "import spacy\n",
        "nlp=spacy.load('en_core_web_sm')\n",
        "\n",
        "#import text_normalizer as tn\n",
        "\n",
        "def analyze_sentiment_sentiwordnet_lexicon(review,\n",
        "                                           verbose=False):\n",
        "\n",
        "    # tokenize and POS tag text tokens\n",
        "    tagged_text = [(token.text, token.tag_) for token in nlp(review)]\n",
        "    pos_score = neg_score = token_count = obj_score = 0\n",
        "    # get wordnet synsets based on POS tags\n",
        "    # get sentiment scores if synsets are found\n",
        "    for word, tag in tagged_text:\n",
        "        ss_set = None\n",
        "        if 'NN' in tag and list(swn.senti_synsets(word, 'n')):\n",
        "            ss_set = list(swn.senti_synsets(word, 'n'))[0]\n",
        "        elif 'VB' in tag and list(swn.senti_synsets(word, 'v')):\n",
        "            ss_set = list(swn.senti_synsets(word, 'v'))[0]\n",
        "        elif 'JJ' in tag and list(swn.senti_synsets(word, 'a')):\n",
        "            ss_set = list(swn.senti_synsets(word, 'a'))[0]\n",
        "        elif 'RB' in tag and list(swn.senti_synsets(word, 'r')):\n",
        "            ss_set = list(swn.senti_synsets(word, 'r'))[0]\n",
        "        # if senti-synset is found\n",
        "        if ss_set:\n",
        "            # add scores for all found synsets\n",
        "            pos_score += ss_set.pos_score()\n",
        "            neg_score += ss_set.neg_score()\n",
        "            obj_score += ss_set.obj_score()\n",
        "            token_count += 1\n",
        "\n",
        "    # aggregate final scores\n",
        "    final_score = pos_score - neg_score\n",
        "    norm_final_score = round(float(final_score) / token_count, 2)\n",
        "    final_sentiment = 'positive' if norm_final_score >= 0 else 'negative'\n",
        "    if verbose:\n",
        "        norm_obj_score = round(float(obj_score) / token_count, 2)\n",
        "        norm_pos_score = round(float(pos_score) / token_count, 2)\n",
        "        norm_neg_score = round(float(neg_score) / token_count, 2)\n",
        "        # to display results in a nice table\n",
        "        sentiment_frame = pd.DataFrame([[final_sentiment, norm_obj_score, norm_pos_score,\n",
        "                                         norm_neg_score, norm_final_score]],\n",
        "                                       columns=pd.MultiIndex(levels=[['SENTIMENT STATS:'],\n",
        "                                                             ['Predicted Sentiment', 'Objectivity',\n",
        "                                                              'Positive', 'Negative', 'Overall']],\n",
        "                                                             codes=[[0,0,0,0,0],[0,1,2,3,4]]))\n",
        "        print(sentiment_frame)\n",
        "\n",
        "    return final_sentiment"
      ]
    },
    {
      "cell_type": "markdown",
      "metadata": {
        "id": "OVzX7su-OttK"
      },
      "source": [
        "### Predict sentiment for sample reviews"
      ]
    },
    {
      "cell_type": "code",
      "execution_count": 28,
      "metadata": {
        "id": "KfHYRsZGOttK",
        "outputId": "9a39c842-b1f2-4d68-e8af-d5c892a198c0",
        "colab": {
          "base_uri": "https://localhost:8080/",
          "height": 0
        }
      },
      "outputs": [
        {
          "output_type": "stream",
          "name": "stdout",
          "text": [
            "REVIEW: fritz lang direct two great western western union return frank jame frank jame movie equal jesse jame western union one randolph scott great western never see robert young western terrific telegraph employee movie think telegraph company open west high gear story telegraph west triangle love story loyalty support cast superb dean jagger make western play telegraph manager virginia gilmore play mr jagger sister love interest movie ms gilmore short career movie quit film 1952 become drama coach primarily know first mrs yul brynner great see slim summerville movie mr scott two great movie rebecca sunnybrook farm jesse jame\n",
            "Actual Sentiment: positive\n",
            "     SENTIMENT STATS:                                      \n",
            "  Predicted Sentiment Objectivity Positive Negative Overall\n",
            "0            positive        0.95     0.03     0.02    0.01\n",
            "------------------------------------------------------------\n",
            "REVIEW: relic day production code hay office good fun not great entertaining base song roger hart enormous hit time story revolve around dance hall girl barbara stanwyck romance wealthy businessman ricardo cortez indecently handsome whose heart belong bookish neighbor monroe owsley owsley marry keep secret dismiss cortez still hold hope help hubby get job cortezs company marry bliss quickly turn sour owsley develop taste high life step college sweetheart gamble high stake bridge yup know pretty funny finally embezzle 5000 cortez go lam devoted wife go cortez not reveal anything else although ending certainly surprise stanwyck good thing movie one early role quite accomplish owsley weak point unattractive snivel cortez amazingly suave sexy performance earnest unremarkable ostensibly drama fill laugh many inadvertant element movie age poorly lot good witty line one point stanwyck say cortez brain foot pretty darn suggestive 1931 lot bawdy suggestive stuff flick last day code clamp whitewash everything amusing antique good reminder far not come 70 year story could easily change fit 2003 could keep basic plot original ending place\n",
            "Actual Sentiment: positive\n",
            "     SENTIMENT STATS:                                      \n",
            "  Predicted Sentiment Objectivity Positive Negative Overall\n",
            "0            positive        0.84     0.09     0.07    0.03\n",
            "------------------------------------------------------------\n",
            "REVIEW: get back film completely appal movie absolute mockery mankind theatre maybe 4 people movie recommend could not believe person like not believe sane human would like no plot no plot joke make movie nothing movie go show hollywood shamble look spiral horror movie industry giggle travesty filmak true new teen horror flick grudge boogeyman ring see series trash not support kind hogwash\n",
            "Actual Sentiment: negative\n",
            "     SENTIMENT STATS:                                      \n",
            "  Predicted Sentiment Objectivity Positive Negative Overall\n",
            "0            positive        0.78     0.13     0.08    0.05\n",
            "------------------------------------------------------------\n"
          ]
        }
      ],
      "source": [
        "for review, sentiment in zip(test_reviews[sample_review_ids], test_sentiments[sample_review_ids]):\n",
        "    print('REVIEW:', review)\n",
        "    print('Actual Sentiment:', sentiment)\n",
        "    pred = analyze_sentiment_sentiwordnet_lexicon(review, verbose=True)\n",
        "    print('-'*60)"
      ]
    },
    {
      "cell_type": "markdown",
      "metadata": {
        "id": "lOHBjTuuOttK"
      },
      "source": [
        "### Predict sentiment for test dataset"
      ]
    },
    {
      "cell_type": "code",
      "execution_count": 29,
      "metadata": {
        "id": "zbmaiDgxOttK"
      },
      "outputs": [],
      "source": [
        "predicted_sentiments = [analyze_sentiment_sentiwordnet_lexicon(review, verbose=False) for review in test_reviews]"
      ]
    },
    {
      "cell_type": "markdown",
      "metadata": {
        "id": "sPAhONBAOttK"
      },
      "source": [
        "### Evaluate model performance"
      ]
    },
    {
      "cell_type": "code",
      "execution_count": 30,
      "metadata": {
        "id": "b17G3ByjOttK",
        "outputId": "03a6d89e-88fd-48c8-98db-130b6772cd71",
        "colab": {
          "base_uri": "https://localhost:8080/",
          "height": 0
        }
      },
      "outputs": [
        {
          "output_type": "stream",
          "name": "stdout",
          "text": [
            "              precision    recall  f1-score   support\n",
            "\n",
            "    negative       0.72      0.61      0.66      1019\n",
            "    positive       0.65      0.75      0.70       981\n",
            "\n",
            "    accuracy                           0.68      2000\n",
            "   macro avg       0.69      0.68      0.68      2000\n",
            "weighted avg       0.69      0.68      0.68      2000\n",
            "\n"
          ]
        }
      ],
      "source": [
        "results = metrics.classification_report(test_sentiments, predicted_sentiments)\n",
        "print(results)\n"
      ]
    },
    {
      "cell_type": "markdown",
      "metadata": {
        "id": "3BK_6RnWOttK"
      },
      "source": [
        "## 3. Sentiment Analysis with VADER"
      ]
    },
    {
      "cell_type": "code",
      "execution_count": 31,
      "metadata": {
        "id": "svJtwCz4OttK"
      },
      "outputs": [],
      "source": [
        "from nltk.sentiment.vader import SentimentIntensityAnalyzer"
      ]
    },
    {
      "cell_type": "markdown",
      "metadata": {
        "id": "SiFe4HtwOttK"
      },
      "source": [
        "### Build model"
      ]
    },
    {
      "cell_type": "code",
      "execution_count": 35,
      "metadata": {
        "id": "RgMkrDUBOttK"
      },
      "outputs": [],
      "source": [
        "def analyze_sentiment_vader_lexicon(review,\n",
        "                                    threshold=0.1,\n",
        "                                    verbose=False):\n",
        "    # pre-process text\n",
        "    # review = strip_html_tags(review)\n",
        "    # review = remove_accented_chars(review)\n",
        "    # review = expand_contractions(review)\n",
        "\n",
        "    # analyze the sentiment for review\n",
        "    analyzer = SentimentIntensityAnalyzer()\n",
        "    scores = analyzer.polarity_scores(review)\n",
        "    # get aggregate scores and final sentiment\n",
        "    agg_score = scores['compound']\n",
        "    final_sentiment = 'positive' if agg_score >= threshold\\\n",
        "                                   else 'negative'\n",
        "    if verbose:\n",
        "        # display detailed sentiment statistics\n",
        "        positive = str(round(scores['pos'], 2)*100)+'%'\n",
        "        final = round(agg_score, 2)\n",
        "        negative = str(round(scores['neg'], 2)*100)+'%'\n",
        "        neutral = str(round(scores['neu'], 2)*100)+'%'\n",
        "        sentiment_frame = pd.DataFrame([[final_sentiment, final, positive,\n",
        "                                        negative, neutral]],\n",
        "                                        columns=pd.MultiIndex(levels=[['SENTIMENT STATS:'],\n",
        "                                                                      ['Predicted Sentiment', 'Polarity Score',\n",
        "                                                                       'Positive', 'Negative', 'Neutral']],\n",
        "                                                              codes=[[0,0,0,0,0],[0,1,2,3,4]]))\n",
        "        print(sentiment_frame)\n",
        "\n",
        "    return final_sentiment"
      ]
    },
    {
      "cell_type": "markdown",
      "metadata": {
        "id": "Tpqys4TrOttK"
      },
      "source": [
        "### Predict sentiment for sample reviews"
      ]
    },
    {
      "cell_type": "code",
      "execution_count": 36,
      "metadata": {
        "id": "OL-P646jOttL",
        "outputId": "96e9f603-c747-44f8-d092-956bd07d67a9",
        "colab": {
          "base_uri": "https://localhost:8080/",
          "height": 0
        }
      },
      "outputs": [
        {
          "output_type": "stream",
          "name": "stdout",
          "text": [
            "REVIEW: fritz lang direct two great western western union return frank jame frank jame movie equal jesse jame western union one randolph scott great western never see robert young western terrific telegraph employee movie think telegraph company open west high gear story telegraph west triangle love story loyalty support cast superb dean jagger make western play telegraph manager virginia gilmore play mr jagger sister love interest movie ms gilmore short career movie quit film 1952 become drama coach primarily know first mrs yul brynner great see slim summerville movie mr scott two great movie rebecca sunnybrook farm jesse jame\n",
            "Actual Sentiment: positive\n",
            "     SENTIMENT STATS:                                         \n",
            "  Predicted Sentiment Polarity Score Positive Negative Neutral\n",
            "0            positive           0.99    35.0%     0.0%   65.0%\n",
            "------------------------------------------------------------\n",
            "REVIEW: relic day production code hay office good fun not great entertaining base song roger hart enormous hit time story revolve around dance hall girl barbara stanwyck romance wealthy businessman ricardo cortez indecently handsome whose heart belong bookish neighbor monroe owsley owsley marry keep secret dismiss cortez still hold hope help hubby get job cortezs company marry bliss quickly turn sour owsley develop taste high life step college sweetheart gamble high stake bridge yup know pretty funny finally embezzle 5000 cortez go lam devoted wife go cortez not reveal anything else although ending certainly surprise stanwyck good thing movie one early role quite accomplish owsley weak point unattractive snivel cortez amazingly suave sexy performance earnest unremarkable ostensibly drama fill laugh many inadvertant element movie age poorly lot good witty line one point stanwyck say cortez brain foot pretty darn suggestive 1931 lot bawdy suggestive stuff flick last day code clamp whitewash everything amusing antique good reminder far not come 70 year story could easily change fit 2003 could keep basic plot original ending place\n",
            "Actual Sentiment: positive\n",
            "     SENTIMENT STATS:                                         \n",
            "  Predicted Sentiment Polarity Score Positive Negative Neutral\n",
            "0            positive            1.0    35.0%     5.0%   60.0%\n",
            "------------------------------------------------------------\n",
            "REVIEW: get back film completely appal movie absolute mockery mankind theatre maybe 4 people movie recommend could not believe person like not believe sane human would like no plot no plot joke make movie nothing movie go show hollywood shamble look spiral horror movie industry giggle travesty filmak true new teen horror flick grudge boogeyman ring see series trash not support kind hogwash\n",
            "Actual Sentiment: negative\n",
            "     SENTIMENT STATS:                                                     \n",
            "  Predicted Sentiment Polarity Score Positive Negative             Neutral\n",
            "0            negative          -0.94    12.0%    32.0%  56.00000000000001%\n",
            "------------------------------------------------------------\n"
          ]
        },
        {
          "output_type": "stream",
          "name": "stderr",
          "text": [
            "[nltk_data] Downloading package vader_lexicon to /root/nltk_data...\n",
            "[nltk_data]   Package vader_lexicon is already up-to-date!\n"
          ]
        }
      ],
      "source": [
        "nltk.download('vader_lexicon')\n",
        "\n",
        "for review, sentiment in zip(test_reviews[sample_review_ids], test_sentiments[sample_review_ids]):\n",
        "    print('REVIEW:', review)\n",
        "    print('Actual Sentiment:', sentiment)\n",
        "    pred = analyze_sentiment_vader_lexicon(review, threshold=0.4, verbose=True)\n",
        "    print('-'*60)"
      ]
    },
    {
      "cell_type": "markdown",
      "metadata": {
        "id": "g91bkiPyOttL"
      },
      "source": [
        "### Predict sentiment for test dataset"
      ]
    },
    {
      "cell_type": "code",
      "execution_count": 37,
      "metadata": {
        "id": "5yt4LechOttL"
      },
      "outputs": [],
      "source": [
        "predicted_sentiments = [analyze_sentiment_vader_lexicon(review, threshold=0.4, verbose=False) for review in test_reviews]"
      ]
    },
    {
      "cell_type": "markdown",
      "metadata": {
        "id": "qucuhXmsOttL"
      },
      "source": [
        "### Evaluate model performance"
      ]
    },
    {
      "cell_type": "code",
      "execution_count": 38,
      "metadata": {
        "id": "MF8DF5E8OttL",
        "outputId": "ccd6dc04-d878-434f-b140-6c65800cfac7",
        "colab": {
          "base_uri": "https://localhost:8080/",
          "height": 0
        }
      },
      "outputs": [
        {
          "output_type": "stream",
          "name": "stdout",
          "text": [
            "Model Performance metrics:\n",
            "------------------------------\n",
            "Accuracy: 0.694\n",
            "Precision: 0.7032\n",
            "Recall: 0.694\n",
            "F1 Score: 0.6915\n",
            "\n",
            "Model Classification report:\n",
            "------------------------------\n",
            "              precision    recall  f1-score   support\n",
            "\n",
            "    positive       0.66      0.79      0.72       981\n",
            "    negative       0.75      0.60      0.67      1019\n",
            "\n",
            "    accuracy                           0.69      2000\n",
            "   macro avg       0.70      0.70      0.69      2000\n",
            "weighted avg       0.70      0.69      0.69      2000\n",
            "\n",
            "\n",
            "Prediction Confusion Matrix:\n",
            "------------------------------\n",
            "                 Predicted:         \n",
            "                   positive negative\n",
            "Actual: positive        775      206\n",
            "        negative        406      613\n"
          ]
        }
      ],
      "source": [
        "meu.display_model_performance_metrics(true_labels=test_sentiments, predicted_labels=predicted_sentiments,\n",
        "                                  classes=['positive', 'negative'])"
      ]
    }
  ],
  "metadata": {
    "anaconda-cloud": {},
    "kernelspec": {
      "display_name": "Python 3",
      "language": "python",
      "name": "python3"
    },
    "language_info": {
      "codemirror_mode": {
        "name": "ipython",
        "version": 3
      },
      "file_extension": ".py",
      "mimetype": "text/x-python",
      "name": "python",
      "nbconvert_exporter": "python",
      "pygments_lexer": "ipython3",
      "version": "3.6.6"
    },
    "colab": {
      "provenance": [],
      "toc_visible": true,
      "include_colab_link": true
    }
  },
  "nbformat": 4,
  "nbformat_minor": 0
}